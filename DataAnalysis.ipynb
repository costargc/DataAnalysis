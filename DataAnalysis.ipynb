{
 "cells": [
  {
   "cell_type": "code",
   "execution_count": 2,
   "metadata": {},
   "outputs": [],
   "source": [
    "import pandas as pd\n",
    "\n",
    "data = pd.read_csv('raw_data.csv')"
   ]
  },
  {
   "cell_type": "code",
   "execution_count": 67,
   "metadata": {},
   "outputs": [
    {
     "name": "stdout",
     "output_type": "stream",
     "text": [
      "         r%  time (years)  notional ($)       PV($)\n",
      "0  0.007600      0.005348    483.449183  483.429607\n",
      "1  0.030114      0.015072    712.712067  712.393427\n",
      "2  0.020456      0.026282     13.275573   13.268510\n",
      "3  0.009520      0.027672   -368.781503 -368.684826\n",
      "4  0.072450      0.030814    112.817616  112.574722\n",
      "5  0.075454      0.034572    418.347914  417.297139\n",
      "6  0.006253      0.075516    380.387921  380.208902\n",
      "7  0.055668      0.078473     23.554652   23.454730\n",
      "8  0.032270      0.080739   -159.885545 -159.476072\n",
      "9  0.066848      0.080996   -114.608620 -114.009515\n"
     ]
    }
   ],
   "source": [
    "print(data.iloc[:10,[0,1,2,3]])"
   ]
  },
  {
   "cell_type": "code",
   "execution_count": 71,
   "metadata": {},
   "outputs": [
    {
     "data": {
      "text/html": [
       "<div>\n",
       "<style scoped>\n",
       "    .dataframe tbody tr th:only-of-type {\n",
       "        vertical-align: middle;\n",
       "    }\n",
       "\n",
       "    .dataframe tbody tr th {\n",
       "        vertical-align: top;\n",
       "    }\n",
       "\n",
       "    .dataframe thead th {\n",
       "        text-align: right;\n",
       "    }\n",
       "</style>\n",
       "<table border=\"1\" class=\"dataframe\">\n",
       "  <thead>\n",
       "    <tr style=\"text-align: right;\">\n",
       "      <th></th>\n",
       "      <th>count</th>\n",
       "      <th>mean</th>\n",
       "      <th>std</th>\n",
       "      <th>min</th>\n",
       "      <th>25%</th>\n",
       "      <th>50%</th>\n",
       "      <th>75%</th>\n",
       "      <th>max</th>\n",
       "    </tr>\n",
       "  </thead>\n",
       "  <tbody>\n",
       "    <tr>\n",
       "      <th>r%</th>\n",
       "      <td>1043.0</td>\n",
       "      <td>0.053129</td>\n",
       "      <td>0.025732</td>\n",
       "      <td>0.000464</td>\n",
       "      <td>0.034167</td>\n",
       "      <td>0.051660</td>\n",
       "      <td>0.072879</td>\n",
       "      <td>0.153536</td>\n",
       "    </tr>\n",
       "    <tr>\n",
       "      <th>time (years)</th>\n",
       "      <td>1043.0</td>\n",
       "      <td>3.284062</td>\n",
       "      <td>2.174226</td>\n",
       "      <td>0.005348</td>\n",
       "      <td>1.580209</td>\n",
       "      <td>2.948344</td>\n",
       "      <td>4.626730</td>\n",
       "      <td>12.539319</td>\n",
       "    </tr>\n",
       "    <tr>\n",
       "      <th>notional ($)</th>\n",
       "      <td>1043.0</td>\n",
       "      <td>118.998975</td>\n",
       "      <td>506.098547</td>\n",
       "      <td>-1610.072708</td>\n",
       "      <td>-228.025952</td>\n",
       "      <td>108.710728</td>\n",
       "      <td>455.045592</td>\n",
       "      <td>1964.086626</td>\n",
       "    </tr>\n",
       "    <tr>\n",
       "      <th>PV($)</th>\n",
       "      <td>1043.0</td>\n",
       "      <td>97.909646</td>\n",
       "      <td>435.896655</td>\n",
       "      <td>-1592.842134</td>\n",
       "      <td>-195.890690</td>\n",
       "      <td>92.433204</td>\n",
       "      <td>387.835737</td>\n",
       "      <td>1763.828859</td>\n",
       "    </tr>\n",
       "  </tbody>\n",
       "</table>\n",
       "</div>"
      ],
      "text/plain": [
       "               count        mean         std          min         25%  \\\n",
       "r%            1043.0    0.053129    0.025732     0.000464    0.034167   \n",
       "time (years)  1043.0    3.284062    2.174226     0.005348    1.580209   \n",
       "notional ($)  1043.0  118.998975  506.098547 -1610.072708 -228.025952   \n",
       "PV($)         1043.0   97.909646  435.896655 -1592.842134 -195.890690   \n",
       "\n",
       "                     50%         75%          max  \n",
       "r%              0.051660    0.072879     0.153536  \n",
       "time (years)    2.948344    4.626730    12.539319  \n",
       "notional ($)  108.710728  455.045592  1964.086626  \n",
       "PV($)          92.433204  387.835737  1763.828859  "
      ]
     },
     "execution_count": 71,
     "metadata": {},
     "output_type": "execute_result"
    }
   ],
   "source": [
    "data.describe().transpose()"
   ]
  },
  {
   "cell_type": "code",
   "execution_count": 72,
   "metadata": {},
   "outputs": [
    {
     "data": {
      "text/plain": [
       "(1043, 4)"
      ]
     },
     "execution_count": 72,
     "metadata": {},
     "output_type": "execute_result"
    }
   ],
   "source": [
    "data.shape"
   ]
  },
  {
   "cell_type": "code",
   "execution_count": 7,
   "metadata": {},
   "outputs": [
    {
     "data": {
      "image/png": "[encoded data removed]",
      "text/plain": [
       "<Figure size 432x288 with 4 Axes>"
      ]
     },
     "metadata": {},
     "output_type": "display_data"
    }
   ],
   "source": [
    "import matplotlib.pyplot as plt\n",
    "\n",
    "rdata=data.iloc[0:,[0]]\n",
    "tdata=data.iloc[0:,[1]]\n",
    "ndata=data.iloc[0:,[2]]\n",
    "pvdata=data.iloc[0:,[3]]\n",
    "\n",
    "data.hist(bins=20)\n",
    "\n",
    "plt.grid(True)\n",
    "plt.tight_layout()\n",
    "plt.show()"
   ]
  },
  {
   "cell_type": "code",
   "execution_count": 14,
   "metadata": {},
   "outputs": [
    {
     "data": {
      "image/png": "[encoded data removed]",
      "text/plain": [
       "<Figure size 432x288 with 3 Axes>"
      ]
     },
     "metadata": {},
     "output_type": "display_data"
    }
   ],
   "source": [
    "import matplotlib.pyplot as plt\n",
    "\n",
    "rdata=data.iloc[0:,[0]]\n",
    "tdata=data.iloc[0:,[1]]\n",
    "ndata=data.iloc[0:,[2]]\n",
    "pvdata=data.iloc[0:,[3]]\n",
    "\n",
    "#pvdata.hist(bins=20)\n",
    "plt.subplot(2,2,1)\n",
    "plt.grid(True)\n",
    "plt.title('r% with PV')\n",
    "plt.scatter(rdata,pvdata)\n",
    "\n",
    "\n",
    "plt.subplot(2,2,2)\n",
    "plt.grid(True)\n",
    "plt.title('time with PV')\n",
    "plt.scatter(tdata,pvdata)\n",
    "\n",
    "plt.subplot(2,2,3)\n",
    "plt.grid(True)\n",
    "plt.title('Notional with PV')\n",
    "plt.scatter(ndata,pvdata)\n",
    "\n",
    "\n",
    "plt.tight_layout()\n",
    "plt.show()"
   ]
  },
  {
   "cell_type": "code",
   "execution_count": 15,
   "metadata": {},
   "outputs": [
    {
     "data": {
      "image/png": "[encoded data removed]",
      "text/plain": [
       "<Figure size 432x288 with 2 Axes>"
      ]
     },
     "metadata": {},
     "output_type": "display_data"
    }
   ],
   "source": [
    "import matplotlib.pyplot as plt\n",
    "import numpy as np\n",
    "\n",
    "corr=data.corr()\n",
    "\n",
    "ax = plt.subplot(1,1,1)\n",
    "cax=ax.matshow(corr,cmap='coolwarm_r',vmin=-1,vmax=1)\n",
    "#cax=ax.matshow(corr,cmap='coolwarm',vmin=-1,vmax=1)\n",
    "\n",
    "plt.colorbar(cax)\n",
    "\n",
    "plt.xticks(rotation=90)\n",
    "\n",
    "ticks=np.arange(0,len(data.columns),1)\n",
    "ticks_minor = np.arange(0,len(data.columns)-1,1)\n",
    "\n",
    "ax.set_xticks(ticks)\n",
    "ax.set_xticks(ticks_minor+0.5,minor=True)\n",
    "\n",
    "ax.set_yticks(ticks)\n",
    "ax.set_yticks(ticks_minor+0.5,minor=True)\n",
    "\n",
    "ax.set_xticklabels(data.columns)\n",
    "ax.set_yticklabels(data.columns)\n",
    "\n",
    "plt.grid(which='minor', linestyle='-', lw=2)\n",
    "\n",
    "plt.show()"
   ]
  },
  {
   "cell_type": "code",
   "execution_count": 75,
   "metadata": {},
   "outputs": [],
   "source": [
    "\n",
    "X = data.drop('PV($)',axis=1)\n",
    "y = data['PV($)']\n"
   ]
  },
  {
   "cell_type": "code",
   "execution_count": 81,
   "metadata": {},
   "outputs": [],
   "source": [
    "from sklearn.model_selection import train_test_split\n",
    "X_train, X_test, y_train, y_test = train_test_split(X, y)"
   ]
  },
  {
   "cell_type": "code",
   "execution_count": 82,
   "metadata": {},
   "outputs": [],
   "source": [
    "from sklearn.preprocessing import StandardScaler\n",
    "scaler = StandardScaler()\n",
    "\n",
    "scaler.fit(X_train)\n",
    "\n",
    "X_train = scaler.transform(X_train)\n",
    "X_test = scaler.transform(X_test)"
   ]
  },
  {
   "cell_type": "code",
   "execution_count": 156,
   "metadata": {},
   "outputs": [],
   "source": [
    "from sklearn.neural_network import MLPRegressor\n",
    "mlp = MLPRegressor(hidden_layer_sizes=(100,100,100),max_iter=5000,verbose=True,tol=0.0000001)"
   ]
  },
  {
   "cell_type": "code",
   "execution_count": 157,
   "metadata": {},
   "outputs": [
    {
     "name": "stdout",
     "output_type": "stream",
     "text": [
      "Iteration 1, loss = 100388.39116781\n",
      "Iteration 2, loss = 100269.19981659\n",
      "Iteration 3, loss = 100128.50398701\n",
      "Iteration 4, loss = 99952.19273181\n",
      "Iteration 5, loss = 99722.02088929\n",
      "Iteration 6, loss = 99397.05105765\n",
      "Iteration 7, loss = 98983.41737084\n",
      "Iteration 8, loss = 98387.54921070\n",
      "Iteration 9, loss = 97632.93577373\n",
      "Iteration 10, loss = 96642.65296012\n",
      "Iteration 11, loss = 95331.96008491\n",
      "Iteration 12, loss = 93742.69126836\n",
      "Iteration 13, loss = 91690.78540921\n",
      "Iteration 14, loss = 89141.21587363\n",
      "Iteration 15, loss = 86171.77691191\n",
      "Iteration 16, loss = 82459.04799822\n",
      "Iteration 17, loss = 78413.41114265\n",
      "Iteration 18, loss = 73487.98184044\n",
      "Iteration 19, loss = 67795.50961303\n",
      "Iteration 20, loss = 61792.81576473\n",
      "Iteration 21, loss = 55278.71564243\n",
      "Iteration 22, loss = 48781.26473424\n",
      "Iteration 23, loss = 41881.13796812\n",
      "Iteration 24, loss = 35081.04360486\n",
      "Iteration 25, loss = 29102.07373391\n",
      "Iteration 26, loss = 23988.73283418\n",
      "Iteration 27, loss = 19739.60218706\n",
      "Iteration 28, loss = 16232.44832203\n",
      "Iteration 29, loss = 13468.17170523\n",
      "Iteration 30, loss = 11164.54696209\n",
      "Iteration 31, loss = 9415.57911351\n",
      "Iteration 32, loss = 8020.87330806\n",
      "Iteration 33, loss = 6849.20204027\n",
      "Iteration 34, loss = 5995.25580243\n",
      "Iteration 35, loss = 5245.43236972\n",
      "Iteration 36, loss = 4531.54436700\n",
      "Iteration 37, loss = 3884.19065131\n",
      "Iteration 38, loss = 3370.81847031\n",
      "Iteration 39, loss = 2931.13207444\n",
      "Iteration 40, loss = 2671.40995611\n",
      "Iteration 41, loss = 2402.26064163\n",
      "Iteration 42, loss = 2151.87152600\n",
      "Iteration 43, loss = 1959.31118670\n",
      "Iteration 44, loss = 1812.07811235\n",
      "Iteration 45, loss = 1676.89732227\n",
      "Iteration 46, loss = 1581.70210452\n",
      "Iteration 47, loss = 1481.85922568\n",
      "Iteration 48, loss = 1388.79834359\n",
      "Iteration 49, loss = 1314.76242639\n",
      "Iteration 50, loss = 1251.52809304\n",
      "Iteration 51, loss = 1189.66905316\n",
      "Iteration 52, loss = 1136.43460369\n",
      "Iteration 53, loss = 1091.49488720\n",
      "Iteration 54, loss = 1043.91887795\n",
      "Iteration 55, loss = 1006.45079040\n",
      "Iteration 56, loss = 968.47673485\n",
      "Iteration 57, loss = 941.42638240\n",
      "Iteration 58, loss = 905.98815302\n",
      "Iteration 59, loss = 882.74509991\n",
      "Iteration 60, loss = 851.65521904\n",
      "Iteration 61, loss = 828.00908403\n",
      "Iteration 62, loss = 805.83249910\n",
      "Iteration 63, loss = 787.55741616\n",
      "Iteration 64, loss = 764.87762956\n",
      "Iteration 65, loss = 747.34880146\n",
      "Iteration 66, loss = 732.90756014\n",
      "Iteration 67, loss = 714.18485184\n",
      "Iteration 68, loss = 698.97142400\n",
      "Iteration 69, loss = 683.83936969\n",
      "Iteration 70, loss = 666.67559687\n",
      "Iteration 71, loss = 655.01870836\n",
      "Iteration 72, loss = 638.22558084\n",
      "Iteration 73, loss = 627.91200749\n",
      "Iteration 74, loss = 614.14754249\n",
      "Iteration 75, loss = 598.06541966\n",
      "Iteration 76, loss = 592.52788884\n",
      "Iteration 77, loss = 571.88692160\n",
      "Iteration 78, loss = 560.89294390\n",
      "Iteration 79, loss = 547.10775833\n",
      "Iteration 80, loss = 537.20912004\n",
      "Iteration 81, loss = 524.24008309\n",
      "Iteration 82, loss = 513.82470060\n",
      "Iteration 83, loss = 501.57559594\n",
      "Iteration 84, loss = 490.61130285\n",
      "Iteration 85, loss = 479.03053259\n",
      "Iteration 86, loss = 467.58663075\n",
      "Iteration 87, loss = 460.02313527\n",
      "Iteration 88, loss = 451.87184905\n",
      "Iteration 89, loss = 440.81015889\n",
      "Iteration 90, loss = 429.40843300\n",
      "Iteration 91, loss = 416.66902553\n",
      "Iteration 92, loss = 405.49705615\n",
      "Iteration 93, loss = 397.26320420\n",
      "Iteration 94, loss = 387.05097630\n",
      "Iteration 95, loss = 380.03670734\n",
      "Iteration 96, loss = 371.40477375\n",
      "Iteration 97, loss = 361.62283313\n",
      "Iteration 98, loss = 353.52376863\n",
      "Iteration 99, loss = 346.39734883\n",
      "Iteration 100, loss = 335.87045981\n",
      "Iteration 101, loss = 334.09148255\n",
      "Iteration 102, loss = 319.96862062\n",
      "Iteration 103, loss = 316.66386320\n",
      "Iteration 104, loss = 306.44316131\n",
      "Iteration 105, loss = 298.27667122\n",
      "Iteration 106, loss = 291.97721186\n",
      "Iteration 107, loss = 285.17530719\n",
      "Iteration 108, loss = 279.19878436\n",
      "Iteration 109, loss = 274.63792718\n",
      "Iteration 110, loss = 267.50111276\n",
      "Iteration 111, loss = 260.49069140\n",
      "Iteration 112, loss = 256.00300239\n",
      "Iteration 113, loss = 250.67437380\n",
      "Iteration 114, loss = 244.75260858\n",
      "Iteration 115, loss = 240.10441052\n",
      "Iteration 116, loss = 235.24513540\n",
      "Iteration 117, loss = 230.18215050\n",
      "Iteration 118, loss = 225.85271791\n",
      "Iteration 119, loss = 219.57022580\n",
      "Iteration 120, loss = 217.36118079\n",
      "Iteration 121, loss = 211.38756227\n",
      "Iteration 122, loss = 209.78519247\n",
      "Iteration 123, loss = 204.43613570\n",
      "Iteration 124, loss = 199.57030749\n",
      "Iteration 125, loss = 198.32509911\n",
      "Iteration 126, loss = 198.45439564\n",
      "Iteration 127, loss = 188.65118015\n",
      "Iteration 128, loss = 188.53311838\n",
      "Iteration 129, loss = 184.04656370\n",
      "Iteration 130, loss = 179.41057821\n",
      "Iteration 131, loss = 178.57864291\n",
      "Iteration 132, loss = 173.29718545\n",
      "Iteration 133, loss = 170.43061665\n",
      "Iteration 134, loss = 169.29542685\n",
      "Iteration 135, loss = 164.25709240\n",
      "Iteration 136, loss = 162.05458634\n",
      "Iteration 137, loss = 159.85696619\n",
      "Iteration 138, loss = 155.21081854\n",
      "Iteration 139, loss = 154.12200081\n",
      "Iteration 140, loss = 154.66697946\n",
      "Iteration 141, loss = 150.78015923\n",
      "Iteration 142, loss = 146.60265245\n",
      "Iteration 143, loss = 145.68596332\n",
      "Iteration 144, loss = 141.83660378\n",
      "Iteration 145, loss = 141.30876232\n",
      "Iteration 146, loss = 138.43989449\n",
      "Iteration 147, loss = 136.18706378\n",
      "Iteration 148, loss = 135.18883578\n",
      "Iteration 149, loss = 132.42986047\n",
      "Iteration 150, loss = 131.52999138\n",
      "Iteration 151, loss = 130.40024411\n",
      "Iteration 152, loss = 127.87895669\n",
      "Iteration 153, loss = 126.30039824\n",
      "Iteration 154, loss = 124.59990048\n",
      "Iteration 155, loss = 123.71682119\n",
      "Iteration 156, loss = 123.89622669\n",
      "Iteration 157, loss = 120.81799528\n",
      "Iteration 158, loss = 119.97831933\n",
      "Iteration 159, loss = 119.91643174\n",
      "Iteration 160, loss = 117.16814875\n",
      "Iteration 161, loss = 115.93959755\n",
      "Iteration 162, loss = 115.14156445\n",
      "Iteration 163, loss = 113.68871591\n",
      "Iteration 164, loss = 112.86161285\n",
      "Iteration 165, loss = 112.76475150\n",
      "Iteration 166, loss = 110.29945148\n",
      "Iteration 167, loss = 110.61214874\n",
      "Iteration 168, loss = 110.75266636\n",
      "Iteration 169, loss = 107.76995969\n",
      "Iteration 170, loss = 107.12725547\n",
      "Iteration 171, loss = 106.26504092\n",
      "Iteration 172, loss = 105.50370177\n",
      "Iteration 173, loss = 104.57119151\n",
      "Iteration 174, loss = 104.39497878\n",
      "Iteration 175, loss = 102.65936840\n",
      "Iteration 176, loss = 102.46775681\n",
      "Iteration 177, loss = 101.67965416\n",
      "Iteration 178, loss = 100.41202491\n",
      "Iteration 179, loss = 100.52369121\n",
      "Iteration 180, loss = 99.25456095\n",
      "Iteration 181, loss = 98.95140758\n",
      "Iteration 182, loss = 98.14336945\n",
      "Iteration 183, loss = 97.57594365\n",
      "Iteration 184, loss = 96.44963936\n",
      "Iteration 185, loss = 96.46460050\n",
      "Iteration 186, loss = 95.35687036\n",
      "Iteration 187, loss = 94.42355777\n",
      "Iteration 188, loss = 94.29543365\n",
      "Iteration 189, loss = 93.67888573\n",
      "Iteration 190, loss = 93.28279511\n",
      "Iteration 191, loss = 93.27431298\n",
      "Iteration 192, loss = 91.97219909\n",
      "Iteration 193, loss = 91.50463417\n",
      "Iteration 194, loss = 91.36288034\n",
      "Iteration 195, loss = 90.42272796\n",
      "Iteration 196, loss = 89.63967928\n",
      "Iteration 197, loss = 88.96103018\n",
      "Iteration 198, loss = 89.26583359\n",
      "Iteration 199, loss = 88.43879210\n",
      "Iteration 200, loss = 87.00885991\n",
      "Iteration 201, loss = 88.90272713\n",
      "Iteration 202, loss = 87.05074327\n",
      "Iteration 203, loss = 85.83901166\n",
      "Iteration 204, loss = 85.70260358\n",
      "Iteration 205, loss = 85.14452049\n",
      "Iteration 206, loss = 84.16400941\n",
      "Iteration 207, loss = 84.44885107\n",
      "Iteration 208, loss = 83.54988952\n",
      "Iteration 209, loss = 83.56594055\n",
      "Iteration 210, loss = 82.03892157\n",
      "Iteration 211, loss = 81.70501500\n",
      "Iteration 212, loss = 82.33847916\n",
      "Iteration 213, loss = 80.75564964\n",
      "Iteration 214, loss = 80.41779647\n",
      "Iteration 215, loss = 80.66742810\n",
      "Iteration 216, loss = 79.68993720\n",
      "Iteration 217, loss = 79.31103062\n",
      "Iteration 218, loss = 78.52009945\n",
      "Iteration 219, loss = 78.75467585\n",
      "Iteration 220, loss = 77.64920596\n",
      "Iteration 221, loss = 77.77054926\n",
      "Iteration 222, loss = 77.10925828\n",
      "Iteration 223, loss = 76.05194593\n",
      "Iteration 224, loss = 76.42256964\n",
      "Iteration 225, loss = 75.64322709\n",
      "Iteration 226, loss = 74.63553513\n",
      "Iteration 227, loss = 75.83681902\n",
      "Iteration 228, loss = 74.85742215\n",
      "Iteration 229, loss = 74.74008131\n",
      "Training loss did not improve more than tol=0.000000 for two consecutive epochs. Stopping.\n"
     ]
    },
    {
     "data": {
      "text/plain": [
       "MLPRegressor(activation='relu', alpha=0.0001, batch_size='auto', beta_1=0.9,\n",
       "       beta_2=0.999, early_stopping=False, epsilon=1e-08,\n",
       "       hidden_layer_sizes=(100, 100, 100), learning_rate='constant',\n",
       "       learning_rate_init=0.001, max_iter=5000, momentum=0.9,\n",
       "       nesterovs_momentum=True, power_t=0.5, random_state=None,\n",
       "       shuffle=True, solver='adam', tol=1e-07, validation_fraction=0.1,\n",
       "       verbose=True, warm_start=False)"
      ]
     },
     "execution_count": 157,
     "metadata": {},
     "output_type": "execute_result"
    }
   ],
   "source": [
    "mlp.fit(X_train,y_train)"
   ]
  },
  {
   "cell_type": "code",
   "execution_count": 158,
   "metadata": {},
   "outputs": [],
   "source": [
    "predictions = mlp.predict(X_test)"
   ]
  },
  {
   "cell_type": "code",
   "execution_count": 160,
   "metadata": {},
   "outputs": [
    {
     "data": {
      "text/plain": [
       "count    261.000000\n",
       "mean      -0.138665\n",
       "std        2.409384\n",
       "min      -38.845726\n",
       "25%       -0.025867\n",
       "50%        0.001024\n",
       "75%        0.016383\n",
       "max        1.974824\n",
       "Name: PV($), dtype: float64"
      ]
     },
     "execution_count": 160,
     "metadata": {},
     "output_type": "execute_result"
    }
   ],
   "source": [
    "((predictions-y_test)/y_test).describe().transpose()"
   ]
  }
 ],
 "metadata": {
  "kernelspec": {
   "display_name": "Python 3",
   "language": "python",
   "name": "python3"
  },
  "language_info": {
   "codemirror_mode": {
    "name": "ipython",
    "version": 3
   },
   "file_extension": ".py",
   "mimetype": "text/x-python",
   "name": "python",
   "nbconvert_exporter": "python",
   "pygments_lexer": "ipython3",
   "version": "3.6.5"
  }
 },
 "nbformat": 4,
 "nbformat_minor": 2
}
